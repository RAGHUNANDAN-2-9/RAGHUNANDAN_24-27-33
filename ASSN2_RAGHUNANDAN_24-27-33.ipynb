{
 "cells": [
  {
   "cell_type": "code",
   "execution_count": 38,
   "id": "bdbd5897-1a77-438e-b783-c6b49dc9c03e",
   "metadata": {},
   "outputs": [],
   "source": [
    "#DSTT ASSIGNMENT-2\n",
    "\n",
    "#ATMAKURU RAGHUNANDAN\n",
    "#24-27-33\n",
    "#MTECH-DATA SCIENCE"
   ]
  },
  {
   "cell_type": "code",
   "execution_count": 39,
   "id": "8e8c0bd7-1591-4446-bb20-d8cd0433817c",
   "metadata": {},
   "outputs": [],
   "source": [
    "#Q1"
   ]
  },
  {
   "cell_type": "code",
   "execution_count": 40,
   "id": "d96a44ea-a949-4108-a11d-8aecff753e70",
   "metadata": {},
   "outputs": [
    {
     "name": "stdout",
     "output_type": "stream",
     "text": [
      "var1:\n",
      " [ 0  1  2  3  4  5  6  7  8  9 10 11 12 13 14 15 16 17 18 19 20 21 22 23\n",
      " 24 25 26 27 28 29 30]\n",
      "var1 shape: (31,)\n"
     ]
    }
   ],
   "source": [
    "import numpy as np\n",
    "\n",
    "# a) Create var1 with numbers from 0 to 30 (31 elements) and print its shape\n",
    "var1 = np.arange(0, 31)  # 31 elements from 0 to 30\n",
    "print(\"var1:\\n\", var1)\n",
    "print(\"var1 shape:\", var1.shape)"
   ]
  },
  {
   "cell_type": "code",
   "execution_count": 41,
   "id": "428e2ad3-c24e-4880-a565-7c494f9154da",
   "metadata": {},
   "outputs": [
    {
     "name": "stdout",
     "output_type": "stream",
     "text": [
      "\n",
      "var2:\n",
      " [[ 0  1  2  3  4]\n",
      " [ 5  6  7  8  9]\n",
      " [10 11 12 13 14]\n",
      " [15 16 17 18 19]\n",
      " [20 21 22 23 24]\n",
      " [25 26 27 28 29]]\n",
      "var2 shape: (6, 5)\n"
     ]
    }
   ],
   "source": [
    "# b) Reshape var1_for_reshaping into a validly-shaped 2D matrix (6x5) and assign to var2\n",
    "var1_for_reshaping = var1[:30]  # Use elements from 0 to 29\n",
    "\n",
    "var2 = var1_for_reshaping.reshape(6, 5)\n",
    "print(\"\\nvar2:\\n\", var2)\n",
    "print(\"var2 shape:\", var2.shape)"
   ]
  },
  {
   "cell_type": "code",
   "execution_count": 42,
   "id": "667e1af7-609f-4fe3-b994-4f7c034b9435",
   "metadata": {},
   "outputs": [
    {
     "name": "stdout",
     "output_type": "stream",
     "text": [
      "\n",
      "var3:\n",
      " [[[ 0  1  2  3  4]\n",
      "  [ 5  6  7  8  9]\n",
      "  [10 11 12 13 14]]\n",
      "\n",
      " [[15 16 17 18 19]\n",
      "  [20 21 22 23 24]\n",
      "  [25 26 27 28 29]]]\n",
      "var3 shape: (2, 3, 5)\n"
     ]
    }
   ],
   "source": [
    "# c) Reshape var1_for_reshaping into a validly-shaped 3D matrix and assign to var3\n",
    "var3 = var1_for_reshaping.reshape(2, 3, 5)\n",
    "print(\"\\nvar3:\\n\", var3)\n",
    "print(\"var3 shape:\", var3.shape)"
   ]
  },
  {
   "cell_type": "code",
   "execution_count": 43,
   "id": "bbb8989d-08fc-443c-b037-ca7f5773e425",
   "metadata": {},
   "outputs": [
    {
     "name": "stdout",
     "output_type": "stream",
     "text": [
      "\n",
      "Modified var2:\n",
      " [[ 0  1  2  3  4]\n",
      " [-1  6  7  8  9]\n",
      " [10 11 12 13 14]\n",
      " [15 16 17 18 19]\n",
      " [20 21 22 23 24]\n",
      " [25 26 27 28 29]]\n"
     ]
    }
   ],
   "source": [
    "# d) Modify the first value in the second row of var2 to -1\n",
    "var2[1, 0] = -1\n",
    "print(\"\\nModified var2:\\n\", var2)"
   ]
  },
  {
   "cell_type": "code",
   "execution_count": 44,
   "id": "363a2b4e-72da-4f54-828c-bbe5d626577d",
   "metadata": {},
   "outputs": [
    {
     "name": "stdout",
     "output_type": "stream",
     "text": [
      "\n",
      "var1 after modification:\n",
      " [ 0  1  2  3  4 -1  6  7  8  9 10 11 12 13 14 15 16 17 18 19 20 21 22 23\n",
      " 24 25 26 27 28 29 30]\n",
      "var3 after modification:\n",
      " [[[ 0  1  2  3  4]\n",
      "  [-1  6  7  8  9]\n",
      "  [10 11 12 13 14]]\n",
      "\n",
      " [[15 16 17 18 19]\n",
      "  [20 21 22 23 24]\n",
      "  [25 26 27 28 29]]]\n"
     ]
    }
   ],
   "source": [
    "# Check if var1 and var3 changed after modifying var2\n",
    "print(\"\\nvar1 after modification:\\n\", var1)\n",
    "print(\"var3 after modification:\\n\", var3)"
   ]
  },
  {
   "cell_type": "code",
   "execution_count": 45,
   "id": "87bb5336-2458-42b1-a0c4-83335f298e7d",
   "metadata": {},
   "outputs": [],
   "source": [
    "#This behavior demonstrates that reshape() in NumPy creates a view (when possible), \n",
    "#so changes made in one reshaped version (like var2) can affect the original array (var1) and other reshaped versions (var3)"
   ]
  },
  {
   "cell_type": "code",
   "execution_count": 46,
   "id": "614519d4-c867-4a45-b066-7b7c25dabf91",
   "metadata": {},
   "outputs": [
    {
     "name": "stdout",
     "output_type": "stream",
     "text": [
      "\n",
      "Sum of var3 over the second dimension (axis=1):\n",
      " [[ 9 18 21 24 27]\n",
      " [60 63 66 69 72]]\n"
     ]
    }
   ],
   "source": [
    "# e) Sum var3 over different dimensions\n",
    "# (i) Sum over the second dimension (axis=1)\n",
    "sum_var3_axis1 = np.sum(var3, axis=1)\n",
    "print(\"\\nSum of var3 over the second dimension (axis=1):\\n\", sum_var3_axis1)\n"
   ]
  },
  {
   "cell_type": "code",
   "execution_count": 47,
   "id": "4eeb9c8e-872f-4c65-8a29-a23f9967e5fc",
   "metadata": {},
   "outputs": [
    {
     "name": "stdout",
     "output_type": "stream",
     "text": [
      "\n",
      "Sum of var3 over the third dimension (axis=2):\n",
      " [[ 10  29  60]\n",
      " [ 85 110 135]]\n"
     ]
    }
   ],
   "source": [
    "# (ii) Sum over the third dimension (axis=2)\n",
    "sum_var3_axis2 = np.sum(var3, axis=2)\n",
    "print(\"\\nSum of var3 over the third dimension (axis=2):\\n\", sum_var3_axis2)\n"
   ]
  },
  {
   "cell_type": "code",
   "execution_count": 48,
   "id": "438a8193-abfa-474e-82cd-f2113433cd02",
   "metadata": {},
   "outputs": [
    {
     "name": "stdout",
     "output_type": "stream",
     "text": [
      "\n",
      "Sum of var3 over both the first and third dimensions (axis=(0,2)):\n",
      " [ 95 139 195]\n"
     ]
    }
   ],
   "source": [
    "# (iii) Sum over both the first and third dimensions (axis=(0,2))\n",
    "sum_var3_axis0_2 = np.sum(var3, axis=(0, 2))\n",
    "print(\"\\nSum of var3 over both the first and third dimensions (axis=(0,2)):\\n\", sum_var3_axis0_2)\n"
   ]
  },
  {
   "cell_type": "code",
   "execution_count": 49,
   "id": "d41fc2a5-efe2-462c-9320-82389ac3fd1e",
   "metadata": {},
   "outputs": [
    {
     "name": "stdout",
     "output_type": "stream",
     "text": [
      "\n",
      "Second row of var2:\n",
      " [-1  6  7  8  9]\n"
     ]
    }
   ],
   "source": [
    "# f) Slicing operations on var2\n",
    "# (i) Slice out the second row of var2\n",
    "second_row_var2 = var2[1, :]\n",
    "print(\"\\nSecond row of var2:\\n\", second_row_var2)"
   ]
  },
  {
   "cell_type": "code",
   "execution_count": 50,
   "id": "000148d2-90e1-497c-a5ec-41503aa5153b",
   "metadata": {},
   "outputs": [
    {
     "name": "stdout",
     "output_type": "stream",
     "text": [
      "\n",
      "Last column of var2:\n",
      " [ 4  9 14 19 24 29]\n"
     ]
    }
   ],
   "source": [
    "# (ii) Slice out the last column of var2\n",
    "last_column_var2 = var2[:, -1]\n",
    "print(\"\\nLast column of var2:\\n\", last_column_var2)\n"
   ]
  },
  {
   "cell_type": "code",
   "execution_count": 51,
   "id": "4ff521c3-8a3c-4877-bcee-23e797123a6b",
   "metadata": {},
   "outputs": [
    {
     "name": "stdout",
     "output_type": "stream",
     "text": [
      "\n",
      "Top-right 2x2 submatrix of var2:\n",
      " [[3 4]\n",
      " [8 9]]\n"
     ]
    }
   ],
   "source": [
    "# (iii) Slice out the top-right 2x2 submatrix of var2\n",
    "top_right_2x2_var2 = var2[:2, -2:]\n",
    "print(\"\\nTop-right 2x2 submatrix of var2:\\n\", top_right_2x2_var2)\n"
   ]
  },
  {
   "cell_type": "code",
   "execution_count": 52,
   "id": "48af53bc-be58-477a-bb1a-59ad681cbfab",
   "metadata": {},
   "outputs": [],
   "source": [
    "#Q2"
   ]
  },
  {
   "cell_type": "code",
   "execution_count": 53,
   "id": "1443ad94-5481-4912-93a0-19ecdb7df69a",
   "metadata": {},
   "outputs": [
    {
     "name": "stdout",
     "output_type": "stream",
     "text": [
      "Vector [1, 2, ..., 10]:\n",
      " [ 1  2  3  4  5  6  7  8  9 10]\n"
     ]
    }
   ],
   "source": [
    "import numpy as np\n",
    "\n",
    "# a) Create a vector [1, 2, ..., 10]\n",
    "vector = np.arange(10) + 1\n",
    "print(\"Vector [1, 2, ..., 10]:\\n\", vector)"
   ]
  },
  {
   "cell_type": "code",
   "execution_count": 54,
   "id": "ab3adc93-e3f2-4f35-bb17-fd3c5019ca78",
   "metadata": {},
   "outputs": [
    {
     "name": "stdout",
     "output_type": "stream",
     "text": [
      "\n",
      "10x10 Matrix A (where A_ij = i + j):\n",
      " [[ 2  3  4  5  6  7  8  9 10 11]\n",
      " [ 3  4  5  6  7  8  9 10 11 12]\n",
      " [ 4  5  6  7  8  9 10 11 12 13]\n",
      " [ 5  6  7  8  9 10 11 12 13 14]\n",
      " [ 6  7  8  9 10 11 12 13 14 15]\n",
      " [ 7  8  9 10 11 12 13 14 15 16]\n",
      " [ 8  9 10 11 12 13 14 15 16 17]\n",
      " [ 9 10 11 12 13 14 15 16 17 18]\n",
      " [10 11 12 13 14 15 16 17 18 19]\n",
      " [11 12 13 14 15 16 17 18 19 20]]\n"
     ]
    }
   ],
   "source": [
    "# b) Create a 10x10 matrix A where A_ij = i + j\n",
    "A = vector.reshape(10, 1) + vector  # Broadcasting of column and row vectors\n",
    "print(\"\\n10x10 Matrix A (where A_ij = i + j):\\n\", A)"
   ]
  },
  {
   "cell_type": "code",
   "execution_count": 55,
   "id": "48292a15-c8a9-4965-9a7b-b44c94ac7f7d",
   "metadata": {},
   "outputs": [],
   "source": [
    "# c) A very common use of broadcasting is to standardize data, i.e., to make it have\n",
    "    #zero mean and unit variance. First, create a fake “data set” with 50 examples,\n",
    "    #each with five dimensions."
   ]
  },
  {
   "cell_type": "code",
   "execution_count": 56,
   "id": "f28c468a-2edc-4872-a063-356df6dae029",
   "metadata": {},
   "outputs": [
    {
     "name": "stdout",
     "output_type": "stream",
     "text": [
      "Original data:\n",
      " [[ 3.33322183  2.16105675  1.6165294   2.44915588  0.95091106]\n",
      " [ 0.62350384  2.31139018 31.66680256  1.6616429   1.01939051]\n",
      " [ 1.69078544  0.63142514  4.54687133  0.36973856  2.20030633]\n",
      " [ 0.83455409  0.92115915  0.31852413  0.64041062  1.57702774]\n",
      " [ 1.2439824   0.28090362  4.80441242  0.48488945  1.32021148]\n",
      " [ 0.44621794  1.45600455  1.59095618  2.502187    0.38209587]\n",
      " [ 4.07766859  0.35919306  0.46519491  0.54185675  3.35872699]\n",
      " [ 2.02568086  0.58250506  0.52463478  0.13664462  3.54118307]\n",
      " [ 0.87929081  0.09180476  1.43494594  1.06435237  0.95338371]\n",
      " [ 1.20776118  5.52172949  1.39789089  0.33668488  0.15067155]\n",
      " [ 7.29413344  0.30888377  0.97835309  2.05095969  1.77856701]\n",
      " [ 0.35641422  1.66062485  0.84238379  0.28835846  0.87940882]\n",
      " [ 0.92290692  0.80960982  1.32378336  8.58175115  0.10196889]\n",
      " [ 0.94694598  0.59925692  1.26896121  1.73845515  0.89993659]\n",
      " [ 0.11924722  3.46284765  3.47191728  1.08185049  1.40130125]\n",
      " [ 0.6480572   1.50716632  0.35941095  0.43133077  2.62437651]\n",
      " [ 0.06263248  1.45260832  2.34250278  0.3238432   0.2060721 ]\n",
      " [ 0.40552015  1.02900794  0.96842384  0.72505635  6.22918114]\n",
      " [ 0.28418811  0.47733504  0.75132894  0.57521014  0.60016599]\n",
      " [ 1.03806274  0.30501549  3.25677694  0.06892397  0.31378313]\n",
      " [ 0.83001195  4.1570318   0.23890562  0.56674176  0.63426078]\n",
      " [ 1.22562733  0.94047058  0.70688383  0.65599647  0.53436078]\n",
      " [ 0.17965643  1.28020279  3.71294996  0.23398371  0.84298575]\n",
      " [ 0.93464664  1.48744407  0.35964695  0.27042739  0.47639774]\n",
      " [ 0.35198121  0.20459128  3.49621549  1.90427706  1.55935283]\n",
      " [ 0.3311277   1.24463599  1.41795773  2.69514649  0.44251772]\n",
      " [ 0.5177558   3.14365616  0.27037036  0.77856794  0.57206965]\n",
      " [ 1.25710251  1.55646239  0.58385085 11.62187497  0.6349822 ]\n",
      " [ 4.82408989  0.29042086 15.83782489  0.40661301  0.38793489]\n",
      " [ 1.16046439  0.33788394  0.69803717  3.17660019  2.64425617]\n",
      " [ 1.28637592  1.8556045  10.22186521  1.51158976  3.67380973]\n",
      " [ 0.83473793  1.25949324  1.01488777  0.20312958  1.17104065]\n",
      " [ 0.54949982  4.48437076  0.10219529  0.680437    0.63227033]\n",
      " [ 0.30816324  0.5128245   4.44627818  4.20662168  0.56480254]\n",
      " [ 1.9273856   1.07325347  0.09679619  1.3332382   0.59924265]\n",
      " [ 1.09930504  0.44528953  0.97587978  0.84144599  0.87968512]\n",
      " [ 4.38224815  0.44147697  1.04684472  0.12714774  2.45669132]\n",
      " [ 1.06145784  0.99544257  2.01097115  2.02313881  1.56383138]\n",
      " [ 2.16747034  1.45803541  0.29192134  0.53573086  1.96095715]\n",
      " [ 0.38273107  0.81589946  1.38235292  1.15381295  2.84260063]\n",
      " [ 0.27853797 13.97730275  0.6849478   1.74401165  2.51010963]\n",
      " [ 3.30279744  7.52793927 19.75403954  2.91531376  0.9485493 ]\n",
      " [ 0.39296182  3.77536023  2.49702704  5.03096441  0.30570365]\n",
      " [ 1.40399468  2.31387634  0.79820113  2.49610311  0.41071891]\n",
      " [ 1.76698001  7.65068082  2.63361059  0.89043727  0.65906442]\n",
      " [ 0.63370332  0.23726079  0.17015061  2.37619926  2.84921317]\n",
      " [ 0.37688273  0.67517418  0.88680631  0.80496456  0.28082725]\n",
      " [ 4.3386205   0.583402    0.25108329  0.38214916  0.9349456 ]\n",
      " [ 1.94686901  0.34243903  0.75824237  2.105931    3.53543792]\n",
      " [ 0.7282532   0.12062024  0.81103054  0.65189685  0.49378284]]\n",
      "\n",
      "Standardized data (zero mean, unit variance):\n",
      " [[ 1.35556742  0.13873595 -0.2231198   0.40775414 -0.34441654]\n",
      " [-0.52930931  0.20031534  5.24913118  0.02620509 -0.28811463]\n",
      " [ 0.21309055 -0.48782988  0.31050485 -0.59972096  0.68280172]\n",
      " [-0.382503   -0.36914939 -0.45949071 -0.46858069  0.17035929]\n",
      " [-0.09770514 -0.63141008  0.35740391 -0.5439305  -0.04078794]\n",
      " [-0.65262918 -0.15006668 -0.22777676  0.43344766 -0.81208067]\n",
      " [ 1.87340373 -0.59934126 -0.4327815  -0.51632991  1.63522317]\n",
      " [ 0.44604342 -0.50786847 -0.42195731 -0.71265469  1.78523351]\n",
      " [-0.35138419 -0.70886853 -0.25618673 -0.26318143 -0.3423836 ]\n",
      " [-0.12290058  1.5153306  -0.26293457 -0.61573543 -1.00235135]\n",
      " [ 4.11077299 -0.61994889 -0.33933375  0.21482859  0.3360593 ]\n",
      " [-0.71509654 -0.06625036 -0.36409419 -0.63914952 -0.40320371]\n",
      " [-0.32104487 -0.4148421  -0.27642979  3.37898893 -1.04239333]\n",
      " [-0.30432333 -0.50100659 -0.28641308  0.06342052 -0.38632635]\n",
      " [-0.88006963  0.67197394  0.11475228 -0.25470362  0.02588182]\n",
      " [-0.51223002 -0.12910985 -0.45204509 -0.56987961  1.0314605 ]\n",
      " [-0.91945078 -0.15145783 -0.09091772 -0.62195721 -0.95680255]\n",
      " [-0.68093851 -0.3249725  -0.34114189 -0.42756993  3.99523123]\n",
      " [-0.76533694 -0.55094808 -0.38067557 -0.50017024 -0.63278944]\n",
      " [-0.24094262 -0.62153341  0.07557453 -0.74546526 -0.86824552]\n",
      " [-0.3856625   0.9563248  -0.4739895  -0.50427316 -0.60475765]\n",
      " [-0.1104729  -0.36123907 -0.38876917 -0.46102936 -0.68689268]\n",
      " [-0.83804906 -0.22207838  0.1586451  -0.66549402 -0.43314975]\n",
      " [-0.31287874 -0.13718846 -0.45200212 -0.6478371  -0.73454828]\n",
      " [-0.71818014 -0.66266905  0.11917706  0.14376103  0.15582747]\n",
      " [-0.73268582 -0.23664721 -0.25928033  0.52693629 -0.7624035 ]\n",
      " [-0.60286753  0.54122711 -0.46825967 -0.40164364 -0.65588948]\n",
      " [-0.0885788  -0.10891726 -0.41117387  4.85192514 -0.60416452]\n",
      " [ 2.39261353 -0.62751164  2.36662366 -0.58185534 -0.80727999]\n",
      " [-0.15580017 -0.60806987 -0.39038017  0.76020001  1.047805  ]\n",
      " [-0.06821625  0.01361697  1.34393941 -0.04649548  1.89427549]\n",
      " [-0.38237512 -0.2305614  -0.33268066 -0.68044281 -0.16343208]\n",
      " [-0.58078642  1.09040899 -0.49888489 -0.44918795 -0.60639415]\n",
      " [-0.74865987 -0.53641093  0.29218652  1.25924414 -0.6618643 ]\n",
      " [ 0.37766935 -0.30684871 -0.49986808 -0.13290659 -0.63354859]\n",
      " [-0.19834254 -0.56407452 -0.33978415 -0.3711793  -0.40297654]\n",
      " [ 2.08526892 -0.56563622 -0.3268612  -0.71725591  0.89359437]\n",
      " [-0.22466901 -0.33872151 -0.15129069  0.2013494   0.1595096 ]\n",
      " [ 0.54467202 -0.1492348  -0.46433517 -0.5192979   0.48601543]\n",
      " [-0.69679057 -0.41226574 -0.26576409 -0.21983789  1.21087834]\n",
      " [-0.76926717  4.97889217 -0.39276379  0.06611264  0.93751343]\n",
      " [ 1.33440424  2.33711179  3.07977888  0.63360706 -0.34635832]\n",
      " [-0.68967408  0.79998496 -0.06277836  1.65863717 -0.87488824]\n",
      " [ 0.01359922  0.20133372 -0.37214     0.43050002 -0.7885476 ]\n",
      " [ 0.2660914   2.38738903 -0.03790606 -0.34744309 -0.58436479]\n",
      " [-0.52221456 -0.649287   -0.48651001  0.37240675  1.21631499]\n",
      " [-0.70085867 -0.46990946 -0.35600471 -0.38885451 -0.89534094]\n",
      " [ 2.05492158 -0.50750106 -0.47177191 -0.59370804 -0.35754291]\n",
      " [ 0.39122198 -0.60620402 -0.37941662  0.24146212  1.78051001]\n",
      " [-0.45644578 -0.69706516 -0.36980372 -0.46301562 -0.72025473]]\n",
      "\n",
      "Mean of standardized data:\n",
      " [ 1.05471187e-16 -2.44249065e-17  9.54791801e-17 -9.76996262e-17\n",
      " -5.77315973e-17]\n",
      "Standard deviation of standardized data:\n",
      " [1. 1. 1. 1. 1.]\n"
     ]
    }
   ],
   "source": [
    "import numpy as np\n",
    "import numpy.random as npr\n",
    "\n",
    "# Generate a fake dataset with 50 examples and 5 dimensions\n",
    "data = np.exp(npr.randn(50, 5))\n",
    "print(\"Original data:\\n\", data)\n",
    "\n",
    "# Standardize the dataset (zero mean and unit variance)\n",
    "# Calculate the mean and standard deviation along each column (feature)\n",
    "mean = np.mean(data, axis=0)\n",
    "std_dev = np.std(data, axis=0)\n",
    "\n",
    "# Standardize: (data - mean) / std_dev\n",
    "standardized_data = (data - mean) / std_dev\n",
    "print(\"\\nStandardized data (zero mean, unit variance):\\n\", standardized_data)\n",
    "\n",
    "# Check the mean and standard deviation after standardization\n",
    "print(\"\\nMean of standardized data:\\n\", np.mean(standardized_data, axis=0))\n",
    "print(\"Standard deviation of standardized data:\\n\", np.std(standardized_data, axis=0))\n"
   ]
  },
  {
   "cell_type": "code",
   "execution_count": 57,
   "id": "9e864331-8026-4831-ac20-d71a64250398",
   "metadata": {},
   "outputs": [
    {
     "name": "stdout",
     "output_type": "stream",
     "text": [
      "Mean of each column:\n",
      " [1.95844214 1.1263572  1.15753004 1.6809504  2.3962808 ]\n",
      "\n",
      "Standard deviation of each column:\n",
      " [2.00657338 1.09270544 1.36851322 1.69273114 4.38625501]\n"
     ]
    }
   ],
   "source": [
    "# e)\n",
    "import numpy as np\n",
    "import numpy.random as npr\n",
    "\n",
    "# Generate a fake dataset with 50 examples and 5 dimensions\n",
    "data = np.exp(npr.randn(50, 5))\n",
    "\n",
    "# Compute the mean and standard deviation of each column\n",
    "mean_vector = np.mean(data, axis=0)  # Mean along each column (axis=0)\n",
    "std_vector = np.std(data, axis=0)    # Standard deviation along each column (axis=0)\n",
    "\n",
    "# Print the mean and standard deviation vectors\n",
    "print(\"Mean of each column:\\n\", mean_vector)\n",
    "print(\"\\nStandard deviation of each column:\\n\", std_vector)\n"
   ]
  },
  {
   "cell_type": "code",
   "execution_count": 58,
   "id": "03c31acf-5d23-4d31-96fc-45553b9ef70c",
   "metadata": {},
   "outputs": [
    {
     "name": "stdout",
     "output_type": "stream",
     "text": [
      "Normalized data:\n",
      " [[ 0.12358632 -0.24581684  0.51919395 -0.67091492 -0.83175184]\n",
      " [-0.12196724 -0.80241101  0.41972854 -0.60567183 -0.61566565]\n",
      " [-0.59973115 -0.79250584  1.17501481  0.06124716 -0.46175385]\n",
      " [-0.36120935 -0.66405736 -0.1454348   0.8956966   4.44471592]\n",
      " [ 0.56834169 -0.70509457  0.38965219  2.89541642 -0.49697766]\n",
      " [-0.01563405  1.92255888  1.13961237 -0.59087816 -0.76821676]\n",
      " [ 0.90544951 -0.79587    -0.9080985  -0.70832072 -0.29398969]\n",
      " [-0.5772464  -0.77103873 -0.19339127 -0.53243899 -0.86090636]\n",
      " [ 2.68814944  0.12950289 -0.67118892  0.40690415 -0.20954879]\n",
      " [-0.57858962 -0.28724348 -0.43739669  0.68695349 -0.17304981]\n",
      " [ 0.55780816  0.6396713   3.01953906 -0.06406273  1.48695461]\n",
      " [-0.76824124  0.72300688 -0.2025527  -0.52693224 -0.33723112]\n",
      " [ 2.00560369 -0.80501839 -0.2911481  -0.31717163 -0.0556549 ]\n",
      " [-0.20025869  0.65133663  0.31524154 -0.57691824  0.08853778]\n",
      " [ 0.85877656 -0.78288319 -0.28317381 -0.05613381 -0.3342088 ]\n",
      " [ 0.35157182 -0.57910403 -0.31490164  0.19542846 -0.41360484]\n",
      " [ 0.02039158 -0.46000537 -0.60296043 -0.61484689 -0.30190214]\n",
      " [-0.54563592 -0.76872933 -0.57972689 -0.33183879 -0.11564608]\n",
      " [-0.39280858  0.968025   -0.53662908 -0.43328751 -0.51454243]\n",
      " [-0.84062892  0.57525913 -0.96925178 -0.51451268 -0.48120193]\n",
      " [ 4.18711402 -0.7766741  -0.84555406  2.59518489 -0.81384571]\n",
      " [-0.67183393 -0.73800853  1.22173859  0.42918602  0.71129335]\n",
      " [-0.64907954 -0.27604951 -0.73682663 -0.67906538 -0.31265103]\n",
      " [-0.4345972  -0.5884974  -0.81578126  0.87767673 -0.82419442]\n",
      " [-0.90699115  1.32893376 -0.81802163 -0.28088237  1.21457273]\n",
      " [-0.33640811 -0.81632691 -0.5370372  -0.55179655  0.34191598]\n",
      " [-0.82381165  2.36356003  3.20987367  0.34389708 -0.86097161]\n",
      " [ 0.06141171 -0.81707223 -0.09351351 -0.42135006  1.56780282]\n",
      " [ 0.0774864  -0.48864152 -0.54351893 -0.35285808 -0.70472678]\n",
      " [ 0.13457128 -0.99211957 -0.01399066 -0.38463218 -0.65909076]\n",
      " [-0.64544876  0.01974268 -0.37074353  0.77725189 -0.10159506]\n",
      " [ 0.2499345  -0.05638039  0.08785001 -0.23258568 -0.1065668 ]\n",
      " [-0.81424225  1.92625658 -0.44668054 -0.54308109  0.63667891]\n",
      " [-0.84217653 -0.52776613 -0.55627095 -0.58835026 -0.48505934]\n",
      " [ 0.49745129  1.69337622  1.23595161 -0.27930545 -0.69672853]\n",
      " [-0.70466027  0.06855402 -0.67526757 -0.64709744 -0.53926945]\n",
      " [ 0.17541394 -0.91533652 -0.77711529 -0.74530026 -0.44300184]\n",
      " [-0.73354142  0.08062488 -0.61427486  0.73493717 -0.28385048]\n",
      " [-0.34093622 -0.11704948 -0.50841231 -0.713263   -0.75542872]\n",
      " [-0.79648654 -0.34100938 -0.8750607  -0.48403887  2.09929652]\n",
      " [-0.8019912  -0.76351916 -0.60620674 -0.16626794 -0.14987307]\n",
      " [-0.07139659  0.21343682 -0.57778209  4.76693716  0.10572427]\n",
      " [-0.58165732 -0.72385734  0.08785271  0.00493226 -0.35062061]\n",
      " [-0.0338611  -0.97830592  0.02680398 -0.47585324  0.18185033]\n",
      " [ 2.52053498 -0.25508434 -0.83122779 -0.39959162 -0.30395231]\n",
      " [ 0.76844405  2.08589061 -0.12537814 -0.46349317  0.68395654]\n",
      " [-0.02811278 -0.85208925  3.07760092 -0.52400296 -0.27598431]\n",
      " [ 0.10907992  0.66806705 -0.71892754  0.24892113  0.28040351]\n",
      " [-0.90967848  3.26177016  1.34845909 -0.23449356  2.85502228]\n",
      " [-0.73225866  0.16399231  0.94933348 -0.20933231 -0.76546209]]\n",
      "\n",
      "Mean of normalized data (should be close to 0):\n",
      " [ 3.55271368e-17  1.38777878e-16  1.75415238e-16  1.84297022e-16\n",
      " -1.90958360e-16]\n",
      "\n",
      "Standard deviation of normalized data (should be close to 1):\n",
      " [1. 1. 1. 1. 1.]\n"
     ]
    }
   ],
   "source": [
    "# f)\n",
    "import numpy as np\n",
    "import numpy.random as npr\n",
    "\n",
    "# Generate a fake dataset with 50 examples and 5 dimensions\n",
    "data = np.exp(npr.randn(50, 5))\n",
    "\n",
    "# Compute the mean and standard deviation of each column\n",
    "mean_vector = np.mean(data, axis=0)  # Mean along each column (axis=0)\n",
    "std_vector = np.std(data, axis=0)    # Standard deviation along each column (axis=0)\n",
    "\n",
    "# Standardize the data: subtract the mean and divide by the standard deviation\n",
    "normalized = (data - mean_vector) / std_vector\n",
    "\n",
    "# Print the normalized data\n",
    "print(\"Normalized data:\\n\", normalized)\n",
    "\n",
    "# Verify the standardization by computing the mean and standard deviation of the normalized data\n",
    "normalized_mean = np.mean(normalized, axis=0)  # Mean of normalized data\n",
    "normalized_std = np.std(normalized, axis=0)    # Standard deviation of normalized data\n",
    "\n",
    "# Print the mean and standard deviation of the normalized data\n",
    "print(\"\\nMean of normalized data (should be close to 0):\\n\", normalized_mean)\n",
    "print(\"\\nStandard deviation of normalized data (should be close to 1):\\n\", normalized_std)\n"
   ]
  },
  {
   "cell_type": "code",
   "execution_count": 59,
   "id": "b7bd7585-ace3-4a5f-bc2f-c91cc11b118a",
   "metadata": {},
   "outputs": [
    {
     "name": "stdout",
     "output_type": "stream",
     "text": [
      "Vandermonde matrix for N=12:\n",
      " [[          1           1           1           1           1           1\n",
      "            1           1           1           1           1           1]\n",
      " [          1           2           4           8          16          32\n",
      "           64         128         256         512        1024        2048]\n",
      " [          1           3           9          27          81         243\n",
      "          729        2187        6561       19683       59049      177147]\n",
      " [          1           4          16          64         256        1024\n",
      "         4096       16384       65536      262144     1048576     4194304]\n",
      " [          1           5          25         125         625        3125\n",
      "        15625       78125      390625     1953125     9765625    48828125]\n",
      " [          1           6          36         216        1296        7776\n",
      "        46656      279936     1679616    10077696    60466176   362797056]\n",
      " [          1           7          49         343        2401       16807\n",
      "       117649      823543     5764801    40353607   282475249  1977326743]\n",
      " [          1           8          64         512        4096       32768\n",
      "       262144     2097152    16777216   134217728  1073741824           0]\n",
      " [          1           9          81         729        6561       59049\n",
      "       531441     4782969    43046721   387420489  -808182895  1316288537]\n",
      " [          1          10         100        1000       10000      100000\n",
      "      1000000    10000000   100000000  1000000000  1410065408  1215752192]\n",
      " [          1          11         121        1331       14641      161051\n",
      "      1771561    19487171   214358881 -1937019605   167620825  1843829075]\n",
      " [          1          12         144        1728       20736      248832\n",
      "      2985984    35831808   429981696   864813056  1787822080   -20971520]]\n"
     ]
    }
   ],
   "source": [
    "# Q3\n",
    "# a) A Vandermonde matrix\n",
    "import numpy as np\n",
    "\n",
    "def vandermonde(N):\n",
    "    vec = np.arange(N) + 1\n",
    "    vander = np.power(vec[:, np.newaxis], np.arange(N))\n",
    "    \n",
    "    return vander\n",
    "vander = vandermonde(12)\n",
    "print(\"Vandermonde matrix for N=12:\\n\", vander)\n"
   ]
  },
  {
   "cell_type": "code",
   "execution_count": 60,
   "id": "f5287d26-9845-4585-9340-c4a88a7ecd47",
   "metadata": {},
   "outputs": [
    {
     "name": "stdout",
     "output_type": "stream",
     "text": [
      "Vector b (result of matrix-vector multiplication):\n",
      " [1.20000000e+01 4.09500000e+03 2.65720000e+05 5.59240500e+06\n",
      " 6.10351560e+07 4.35356467e+08 2.30688120e+09 1.22713351e+09\n",
      " 9.43953692e+08 3.73692871e+09 3.10225064e+08 3.10073456e+09]\n"
     ]
    }
   ],
   "source": [
    "# b)\n",
    "import numpy as np\n",
    "\n",
    "def vandermonde(N):\n",
    "    vec = np.arange(N) + 1\n",
    "    vander = np.power(vec[:, np.newaxis], np.arange(N))\n",
    "    return vander\n",
    "\n",
    "# Create the Vandermonde matrix for N = 12\n",
    "vander = vandermonde(12)\n",
    "\n",
    "# Create a vector of ones with length 12\n",
    "x = np.ones(12)\n",
    "\n",
    "# Perform matrix-vector multiplication\n",
    "b = np.dot(vander, x)\n",
    "\n",
    "# Print the resulting vector b\n",
    "print(\"Vector b (result of matrix-vector multiplication):\\n\", b)\n"
   ]
  },
  {
   "cell_type": "code",
   "execution_count": 61,
   "id": "396c40bc-8b89-4f6f-a77a-2ba22fb45eec",
   "metadata": {},
   "outputs": [
    {
     "name": "stdout",
     "output_type": "stream",
     "text": [
      "Recovered x from the inverse of Vandermonde matrix:\n",
      " [0.99620819 1.00462723 0.99909973 1.00006104 0.99999666 1.00000048\n",
      " 0.99999995 1.         1.         1.         1.         1.        ]\n"
     ]
    }
   ],
   "source": [
    "# c)\n",
    "import numpy as np\n",
    "\n",
    "def vandermonde(N):\n",
    "    vec = np.arange(N) + 1\n",
    "    vander = np.power(vec[:, np.newaxis], np.arange(N))\n",
    "    \n",
    "    return vander\n",
    "\n",
    "vander = vandermonde(12)\n",
    "\n",
    "x = np.ones(12)\n",
    "\n",
    "# Perform matrix-vector multiplication\n",
    "b = np.dot(vander, x)\n",
    "\n",
    "# Import numpy's linear algebra module\n",
    "import numpy.linalg as la\n",
    "\n",
    "# Solve the linear system by inverting V and multiplying by b\n",
    "x_recovered = la.inv(vander).dot(b)\n",
    "\n",
    "# Print the result\n",
    "print(\"Recovered x from the inverse of Vandermonde matrix:\\n\", x_recovered)\n"
   ]
  },
  {
   "cell_type": "code",
   "execution_count": 62,
   "id": "8df0580f-6cef-4663-9693-5ef4a1e61197",
   "metadata": {},
   "outputs": [
    {
     "name": "stdout",
     "output_type": "stream",
     "text": [
      "Solved x using np.linalg.solve:\n",
      " [0.99998827 1.00002951 0.99997139 1.00001427 0.99999595 1.00000068\n",
      " 0.99999993 1.         1.         1.         1.         1.        ]\n"
     ]
    }
   ],
   "source": [
    "# d)\n",
    "import numpy as np\n",
    "\n",
    "def vandermonde(N):\n",
    "    vec = np.arange(N) + 1\n",
    "    vander = np.power(vec[:, np.newaxis], np.arange(N))\n",
    "    \n",
    "    return vander\n",
    "\n",
    "vander = vandermonde(12)\n",
    "x = np.ones(12)\n",
    "\n",
    "# Perform matrix-vector multiplication\n",
    "b = np.dot(vander, x)\n",
    "\n",
    "# Solve the linear system using np.linalg.solve\n",
    "x_solved = np.linalg.solve(vander, b)\n",
    "\n",
    "# Print the result\n",
    "print(\"Solved x using np.linalg.solve:\\n\", x_solved)\n"
   ]
  },
  {
   "cell_type": "code",
   "execution_count": null,
   "id": "d71477f6-ccb7-49a8-9915-523e10b0c774",
   "metadata": {},
   "outputs": [],
   "source": []
  }
 ],
 "metadata": {
  "kernelspec": {
   "display_name": "Python 3 (ipykernel)",
   "language": "python",
   "name": "python3"
  },
  "language_info": {
   "codemirror_mode": {
    "name": "ipython",
    "version": 3
   },
   "file_extension": ".py",
   "mimetype": "text/x-python",
   "name": "python",
   "nbconvert_exporter": "python",
   "pygments_lexer": "ipython3",
   "version": "3.12.4"
  }
 },
 "nbformat": 4,
 "nbformat_minor": 5
}
